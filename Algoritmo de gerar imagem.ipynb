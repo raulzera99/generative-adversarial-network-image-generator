{
 "cells": [
  {
   "cell_type": "code",
   "execution_count": 9,
   "id": "dff7e535",
   "metadata": {},
   "outputs": [],
   "source": [
    "import matplotlib.pyplot as plt\n",
    "import numpy as np"
   ]
  },
  {
   "cell_type": "code",
   "execution_count": 10,
   "id": "93a3699e",
   "metadata": {},
   "outputs": [],
   "source": [
    "R = np.array([\n",
    "    [1,1,0,0,0,0,0,1,1],\n",
    "    [1,0,1,1,1,1,1,0,1],\n",
    "    [0,1,1,1,1,1,1,1,0],\n",
    "    [0,1,1,1,1,1,1,1,0],\n",
    "    [1,0,0,0,0,0,0,0,1],\n",
    "    [1,1,0,1,1,1,0,1,1],\n",
    "    [1,1,0,1,1,1,0,1,1],\n",
    "    [1,1,1,0,0,0,1,1,1]\n",
    "], dtype = np.float32)\n",
    "\n",
    "G = np.array([\n",
    "    [1,1,0,0,0,0,0,1,1],\n",
    "    [1,0,1,1,1,1,1,0,1],\n",
    "    [0,1,1,1,1,1,1,1,0],\n",
    "    [0,1,1,1,1,1,1,1,0],\n",
    "    [1,0,0,0,0,0,0,0,1],\n",
    "    [1,1,0,1,1,1,0,1,1],\n",
    "    [1,1,0,1,1,1,0,1,1],\n",
    "    [1,1,1,0,0,0,1,1,1]\n",
    "], dtype = np.float32)\n",
    "\n",
    "B = np.array([\n",
    "    [1,1,0,0,0,0,0,1,1],\n",
    "    [1,0,1,1,1,1,1,0,1],\n",
    "    [0,1,1,1,1,1,1,1,0],\n",
    "    [0,1,1,1,1,1,1,1,0],\n",
    "    [1,0,0,0,0,0,0,0,1],\n",
    "    [1,1,0,1,1,1,0,1,1],\n",
    "    [1,1,0,1,1,1,0,1,1],\n",
    "    [1,1,1,0,0,0,1,1,1]\n",
    "], dtype = np.float32)\n",
    "\n",
    "M = np.zeros((8,9,3), dtype = np.float32)\n",
    "M[:,:,0] = R\n",
    "M[:,:,1] = G\n",
    "M[:,:,2] = B"
   ]
  },
  {
   "cell_type": "code",
   "execution_count": 11,
   "id": "9bbb10aa",
   "metadata": {},
   "outputs": [
    {
     "data": {
      "image/png": "[encoded data removed]",
      "text/plain": [
       "<Figure size 288x288 with 1 Axes>"
      ]
     },
     "metadata": {
      "needs_background": "light"
     },
     "output_type": "display_data"
    }
   ],
   "source": [
    "plt.figure(figsize=(4,4))\n",
    "im = plt.imshow(M, aspect='auto')\n",
    "plt.axis(\"off\")\n",
    "plt.show()"
   ]
  }
 ],
 "metadata": {
  "kernelspec": {
   "display_name": "Python 3 (ipykernel)",
   "language": "python",
   "name": "python3"
  },
  "language_info": {
   "codemirror_mode": {
    "name": "ipython",
    "version": 3
   },
   "file_extension": ".py",
   "mimetype": "text/x-python",
   "name": "python",
   "nbconvert_exporter": "python",
   "pygments_lexer": "ipython3",
   "version": "3.9.7"
  }
 },
 "nbformat": 4,
 "nbformat_minor": 5
}
